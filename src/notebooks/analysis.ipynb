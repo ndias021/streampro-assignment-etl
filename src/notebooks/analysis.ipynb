{
 "cells": [
  {
   "cell_type": "code",
   "metadata": {
    "ExecuteTime": {
     "end_time": "2025-09-10T17:23:54.617654Z",
     "start_time": "2025-09-10T17:23:53.441758Z"
    }
   },
   "source": "import sys\nimport os\nfrom pathlib import Path\nimport pandas as pd\nfrom minio import Minio\nfrom loguru import logger\nfrom io import BytesIO\n\n# Set working directory to project root\nproject_root = Path().parent\nos.chdir(project_root)\nsys.path.append('src')\n\nlogger.remove()\nlogger.add(sys.stderr, level=\"INFO\")\n\n# Create MinIO client directly\nminio_client = Minio(\n    \"localhost:9000\",\n    access_key=\"minioadmin\",\n    secret_key=\"minioadmin\",\n    secure=False\n)\nbucket = \"streampro-data\"\n\n# Create DuckDB connection directly \nimport duckdb\nconn = duckdb.connect(\":memory:\")\n\n# Install extensions\nconn.execute(\"INSTALL httpfs;\")\nconn.execute(\"LOAD httpfs;\")\nconn.execute(\"INSTALL parquet;\")\nconn.execute(\"LOAD parquet;\")\n\nprint(\"Loading tables from MinIO...\")\n\n# Load each table directly\ntable_configs = {\n    \"trusted_users\": \"trusted/users/ingestion_date=2025-09-09/data.parquet\",\n    \"trusted_videos\": \"trusted/videos/ingestion_date=2025-09-09/data.parquet\", \n    \"trusted_devices\": \"trusted/devices/ingestion_date=2025-09-09/data.parquet\",\n    \"trusted_events\": \"trusted/events/ingestion_date=2025-09-09/data.parquet\"\n}\n\nfor table_name, minio_path in table_configs.items():\n    try:\n        # Read parquet from MinIO\n        response = minio_client.get_object(bucket, minio_path)\n        df = pd.read_parquet(BytesIO(response.data))\n        \n        # Create table in DuckDB\n        conn.execute(f\"DROP TABLE IF EXISTS {table_name}\")\n        conn.execute(f\"CREATE TABLE {table_name} AS SELECT * FROM df\")\n        \n        print(f\"✅ {table_name}: {len(df):,} rows loaded\")\n    except Exception as e:\n        print(f\"❌ Failed to load {table_name}: {e}\")\n\n# List loaded tables\nresult = conn.execute(\"SELECT table_name FROM information_schema.tables WHERE table_type = 'BASE TABLE' ORDER BY table_name\").fetchall()\ntables = [row[0] for row in result]\nprint(f\"Available tables: {tables}\")",
   "id": "9881173e913b7f0a",
   "outputs": [
    {
     "name": "stdout",
     "output_type": "stream",
     "text": [
      "Loading tables from MinIO...\n",
      "✅ trusted_users: 100 rows loaded\n",
      "✅ trusted_videos: 20 rows loaded\n",
      "✅ trusted_devices: 5 rows loaded\n",
      "✅ trusted_events: 13,703 rows loaded\n",
      "Available tables: ['trusted_devices', 'trusted_events', 'trusted_users', 'trusted_videos']\n"
     ]
    }
   ],
   "execution_count": 9
  },
  {
   "cell_type": "markdown",
   "metadata": {},
   "source": [
    "# Data Analysis"
   ],
   "id": "52ff1d7d14d5c764"
  },
  {
   "cell_type": "code",
   "metadata": {
    "ExecuteTime": {
     "end_time": "2025-09-10T17:27:02.720108Z",
     "start_time": "2025-09-10T17:27:02.551728Z"
    }
   },
   "source": "users_count = conn.execute(\"SELECT COUNT(*) as count FROM trusted_users\").df()\nvideos_count = conn.execute(\"SELECT COUNT(*) as count FROM trusted_videos\").df()\ndevices_count = conn.execute(\"SELECT COUNT(*) as count FROM trusted_devices\").df()\nevents_count = conn.execute(\"SELECT COUNT(*) as count FROM trusted_events\").df()\n\nprint(f\"Users: {users_count['count'].iloc[0]:,}\")\nprint(f\"Videos: {videos_count['count'].iloc[0]:,}\")\nprint(f\"Devices: {devices_count['count'].iloc[0]:,}\")\nprint(f\"Events: {events_count['count'].iloc[0]:,}\")",
   "id": "e802c48edc973822",
   "outputs": [
    {
     "name": "stdout",
     "output_type": "stream",
     "text": [
      "Users: 100\n",
      "Videos: 20\n",
      "Devices: 5\n",
      "Events: 13,703\n"
     ]
    }
   ],
   "execution_count": 13
  },
  {
   "metadata": {
    "ExecuteTime": {
     "end_time": "2025-09-10T17:28:01.103959Z",
     "start_time": "2025-09-10T17:28:01.020130Z"
    }
   },
   "cell_type": "code",
   "source": [
    "result = conn.execute(\"\"\"\n",
    "    SELECT\n",
    "        user_id,\n",
    "        MIN(session_id) as first_session_id,\n",
    "        max(session_id) as last_session_id\n",
    "    FROM trusted_events\n",
    "    GROUP BY user_id\n",
    "\"\"\").df()\n",
    "result[:10]"
   ],
   "id": "579123a224e52c65",
   "outputs": [
    {
     "data": {
      "text/plain": [
       "   user_id  first_session_id   last_session_id\n",
       "0   user_1   user_1_sess_0_0   user_1_sess_4_1\n",
       "1   user_5   user_5_sess_0_0   user_5_sess_4_2\n",
       "2  user_16  user_16_sess_0_0  user_16_sess_4_0\n",
       "3  user_21  user_21_sess_0_0  user_21_sess_4_1\n",
       "4  user_23  user_23_sess_0_0  user_23_sess_4_2\n",
       "5  user_25  user_25_sess_0_0  user_25_sess_4_0\n",
       "6  user_34  user_34_sess_0_0  user_34_sess_4_1\n",
       "7  user_51  user_51_sess_0_0  user_51_sess_4_1\n",
       "8  user_59  user_59_sess_0_0  user_59_sess_4_2\n",
       "9  user_63  user_63_sess_0_0  user_63_sess_4_0"
      ],
      "text/html": [
       "<div>\n",
       "<style scoped>\n",
       "    .dataframe tbody tr th:only-of-type {\n",
       "        vertical-align: middle;\n",
       "    }\n",
       "\n",
       "    .dataframe tbody tr th {\n",
       "        vertical-align: top;\n",
       "    }\n",
       "\n",
       "    .dataframe thead th {\n",
       "        text-align: right;\n",
       "    }\n",
       "</style>\n",
       "<table border=\"1\" class=\"dataframe\">\n",
       "  <thead>\n",
       "    <tr style=\"text-align: right;\">\n",
       "      <th></th>\n",
       "      <th>user_id</th>\n",
       "      <th>first_session_id</th>\n",
       "      <th>last_session_id</th>\n",
       "    </tr>\n",
       "  </thead>\n",
       "  <tbody>\n",
       "    <tr>\n",
       "      <th>0</th>\n",
       "      <td>user_1</td>\n",
       "      <td>user_1_sess_0_0</td>\n",
       "      <td>user_1_sess_4_1</td>\n",
       "    </tr>\n",
       "    <tr>\n",
       "      <th>1</th>\n",
       "      <td>user_5</td>\n",
       "      <td>user_5_sess_0_0</td>\n",
       "      <td>user_5_sess_4_2</td>\n",
       "    </tr>\n",
       "    <tr>\n",
       "      <th>2</th>\n",
       "      <td>user_16</td>\n",
       "      <td>user_16_sess_0_0</td>\n",
       "      <td>user_16_sess_4_0</td>\n",
       "    </tr>\n",
       "    <tr>\n",
       "      <th>3</th>\n",
       "      <td>user_21</td>\n",
       "      <td>user_21_sess_0_0</td>\n",
       "      <td>user_21_sess_4_1</td>\n",
       "    </tr>\n",
       "    <tr>\n",
       "      <th>4</th>\n",
       "      <td>user_23</td>\n",
       "      <td>user_23_sess_0_0</td>\n",
       "      <td>user_23_sess_4_2</td>\n",
       "    </tr>\n",
       "    <tr>\n",
       "      <th>5</th>\n",
       "      <td>user_25</td>\n",
       "      <td>user_25_sess_0_0</td>\n",
       "      <td>user_25_sess_4_0</td>\n",
       "    </tr>\n",
       "    <tr>\n",
       "      <th>6</th>\n",
       "      <td>user_34</td>\n",
       "      <td>user_34_sess_0_0</td>\n",
       "      <td>user_34_sess_4_1</td>\n",
       "    </tr>\n",
       "    <tr>\n",
       "      <th>7</th>\n",
       "      <td>user_51</td>\n",
       "      <td>user_51_sess_0_0</td>\n",
       "      <td>user_51_sess_4_1</td>\n",
       "    </tr>\n",
       "    <tr>\n",
       "      <th>8</th>\n",
       "      <td>user_59</td>\n",
       "      <td>user_59_sess_0_0</td>\n",
       "      <td>user_59_sess_4_2</td>\n",
       "    </tr>\n",
       "    <tr>\n",
       "      <th>9</th>\n",
       "      <td>user_63</td>\n",
       "      <td>user_63_sess_0_0</td>\n",
       "      <td>user_63_sess_4_0</td>\n",
       "    </tr>\n",
       "  </tbody>\n",
       "</table>\n",
       "</div>"
      ]
     },
     "execution_count": 15,
     "metadata": {},
     "output_type": "execute_result"
    }
   ],
   "execution_count": 15
  },
  {
   "cell_type": "code",
   "metadata": {
    "ExecuteTime": {
     "end_time": "2025-09-10T17:27:06.663696Z",
     "start_time": "2025-09-10T17:27:06.610454Z"
    }
   },
   "source": "result = conn.execute(\"\"\"\n    WITH user_first_sessions AS (\n        SELECT\n            user_id,\n            MIN(session_id) as first_session_id\n        FROM trusted_events\n        GROUP BY user_id\n    ),\n    first_session_watch_times AS (\n        SELECT\n            ufs.user_id,\n            SUM(CAST(e.value AS DOUBLE)) as total_watch_time\n        FROM user_first_sessions ufs\n        INNER JOIN trusted_events e\n            ON ufs.user_id = e.user_id\n            AND ufs.first_session_id = e.session_id\n        WHERE e.event_name = 'watch_time'\n            AND e.value IS NOT NULL\n            AND e.value > 0\n        GROUP BY ufs.user_id\n    )\n    SELECT\n        COUNT(DISTINCT u.user_id) as total_users,\n        COUNT(DISTINCT CASE\n            WHEN fswt.total_watch_time >= 30 THEN fswt.user_id\n        END) as users_with_30_plus,\n        ROUND(\n            100.0 * COUNT(DISTINCT CASE\n                WHEN fswt.total_watch_time >= 30 THEN fswt.user_id\n            END) / NULLIF(COUNT(DISTINCT u.user_id), 0),\n            2\n        ) as pct_reaching_30_seconds\n    FROM trusted_users u\n    LEFT JOIN first_session_watch_times fswt ON u.user_id = fswt.user_id\n\"\"\").df()\n\nprint(f\"Total users: {result['total_users'].iloc[0]:,}\")\nprint(f\"Users reaching 30+ seconds: {result['users_with_30_plus'].iloc[0]:,}\")\nprint(f\"Percentage: {result['pct_reaching_30_seconds'].iloc[0]}%\")",
   "id": "b78d6074534f57c1",
   "outputs": [
    {
     "name": "stdout",
     "output_type": "stream",
     "text": [
      "Total users: 100\n",
      "Users reaching 30+ seconds: 1\n",
      "Percentage: 1.0%\n"
     ]
    }
   ],
   "execution_count": 14
  },
  {
   "metadata": {},
   "cell_type": "markdown",
   "source": "## Data Understanding for Q1 Analysis",
   "id": "18918e76933caffa"
  },
  {
   "cell_type": "code",
   "id": "bjs4j5h1g8b",
   "source": [
    "# Understanding session ID format: user_{id}_sess_{day}_{sub_session}\n",
    "session_structure = conn.execute(\"\"\"\n",
    "    SELECT DISTINCT \n",
    "        session_id,\n",
    "        SPLIT_PART(session_id, '_', 1) || '_' || SPLIT_PART(session_id, '_', 2) as user_part,\n",
    "        SPLIT_PART(session_id, '_', 4) as day_index,\n",
    "        SPLIT_PART(session_id, '_', 5) as sub_session_index\n",
    "    FROM trusted_events\n",
    "    WHERE user_id = 'user_1'\n",
    "    ORDER BY session_id\n",
    "\"\"\").df()\n",
    "\n",
    "print(\"Understanding session ID format:\")\n",
    "session_structure"
   ],
   "metadata": {
    "ExecuteTime": {
     "end_time": "2025-09-10T17:47:18.065524Z",
     "start_time": "2025-09-10T17:47:18.038228Z"
    }
   },
   "outputs": [
    {
     "name": "stdout",
     "output_type": "stream",
     "text": [
      "Understanding session ID format:\n"
     ]
    },
    {
     "data": {
      "text/plain": [
       "        session_id user_part day_index sub_session_index\n",
       "0  user_1_sess_0_0    user_1         0                 0\n",
       "1  user_1_sess_1_0    user_1         1                 0\n",
       "2  user_1_sess_2_0    user_1         2                 0\n",
       "3  user_1_sess_3_0    user_1         3                 0\n",
       "4  user_1_sess_3_1    user_1         3                 1\n",
       "5  user_1_sess_3_2    user_1         3                 2\n",
       "6  user_1_sess_4_0    user_1         4                 0\n",
       "7  user_1_sess_4_1    user_1         4                 1"
      ],
      "text/html": [
       "<div>\n",
       "<style scoped>\n",
       "    .dataframe tbody tr th:only-of-type {\n",
       "        vertical-align: middle;\n",
       "    }\n",
       "\n",
       "    .dataframe tbody tr th {\n",
       "        vertical-align: top;\n",
       "    }\n",
       "\n",
       "    .dataframe thead th {\n",
       "        text-align: right;\n",
       "    }\n",
       "</style>\n",
       "<table border=\"1\" class=\"dataframe\">\n",
       "  <thead>\n",
       "    <tr style=\"text-align: right;\">\n",
       "      <th></th>\n",
       "      <th>session_id</th>\n",
       "      <th>user_part</th>\n",
       "      <th>day_index</th>\n",
       "      <th>sub_session_index</th>\n",
       "    </tr>\n",
       "  </thead>\n",
       "  <tbody>\n",
       "    <tr>\n",
       "      <th>0</th>\n",
       "      <td>user_1_sess_0_0</td>\n",
       "      <td>user_1</td>\n",
       "      <td>0</td>\n",
       "      <td>0</td>\n",
       "    </tr>\n",
       "    <tr>\n",
       "      <th>1</th>\n",
       "      <td>user_1_sess_1_0</td>\n",
       "      <td>user_1</td>\n",
       "      <td>1</td>\n",
       "      <td>0</td>\n",
       "    </tr>\n",
       "    <tr>\n",
       "      <th>2</th>\n",
       "      <td>user_1_sess_2_0</td>\n",
       "      <td>user_1</td>\n",
       "      <td>2</td>\n",
       "      <td>0</td>\n",
       "    </tr>\n",
       "    <tr>\n",
       "      <th>3</th>\n",
       "      <td>user_1_sess_3_0</td>\n",
       "      <td>user_1</td>\n",
       "      <td>3</td>\n",
       "      <td>0</td>\n",
       "    </tr>\n",
       "    <tr>\n",
       "      <th>4</th>\n",
       "      <td>user_1_sess_3_1</td>\n",
       "      <td>user_1</td>\n",
       "      <td>3</td>\n",
       "      <td>1</td>\n",
       "    </tr>\n",
       "    <tr>\n",
       "      <th>5</th>\n",
       "      <td>user_1_sess_3_2</td>\n",
       "      <td>user_1</td>\n",
       "      <td>3</td>\n",
       "      <td>2</td>\n",
       "    </tr>\n",
       "    <tr>\n",
       "      <th>6</th>\n",
       "      <td>user_1_sess_4_0</td>\n",
       "      <td>user_1</td>\n",
       "      <td>4</td>\n",
       "      <td>0</td>\n",
       "    </tr>\n",
       "    <tr>\n",
       "      <th>7</th>\n",
       "      <td>user_1_sess_4_1</td>\n",
       "      <td>user_1</td>\n",
       "      <td>4</td>\n",
       "      <td>1</td>\n",
       "    </tr>\n",
       "  </tbody>\n",
       "</table>\n",
       "</div>"
      ]
     },
     "execution_count": 28,
     "metadata": {},
     "output_type": "execute_result"
    }
   ],
   "execution_count": 28
  },
  {
   "cell_type": "code",
   "id": "muor6aroas",
   "source": [
    "# User session overview - count sessions per user\n",
    "user_sessions = conn.execute(\"\"\"\n",
    "    SELECT \n",
    "        user_id,\n",
    "        COUNT(DISTINCT session_id) as total_sessions,\n",
    "        MIN(session_id) as first_session,\n",
    "        MAX(session_id) as last_session,\n",
    "        MAX(CAST(SPLIT_PART(session_id, '_', 4) AS INTEGER)) + 1 as active_days\n",
    "    FROM trusted_events\n",
    "    GROUP BY user_id\n",
    "    ORDER BY total_sessions DESC\n",
    "    LIMIT 10\n",
    "\"\"\").df()\n",
    "\n",
    "print(\"User session overview:\")\n",
    "user_sessions"
   ],
   "metadata": {
    "ExecuteTime": {
     "end_time": "2025-09-10T17:47:20.756795Z",
     "start_time": "2025-09-10T17:47:20.706189Z"
    }
   },
   "outputs": [
    {
     "name": "stdout",
     "output_type": "stream",
     "text": [
      "User session overview:\n"
     ]
    },
    {
     "data": {
      "text/plain": [
       "   user_id  total_sessions     first_session      last_session  active_days\n",
       "0  user_95              15  user_95_sess_0_0  user_95_sess_4_2            5\n",
       "1   user_9              13   user_9_sess_0_0   user_9_sess_4_2            5\n",
       "2  user_22              13  user_22_sess_0_0  user_22_sess_4_2            5\n",
       "3  user_23              13  user_23_sess_0_0  user_23_sess_4_2            5\n",
       "4   user_3              13   user_3_sess_0_0   user_3_sess_4_0            5\n",
       "5  user_28              13  user_28_sess_0_0  user_28_sess_4_1            5\n",
       "6  user_46              13  user_46_sess_0_0  user_46_sess_4_1            5\n",
       "7  user_67              13  user_67_sess_0_0  user_67_sess_4_1            5\n",
       "8   user_4              12   user_4_sess_0_0   user_4_sess_4_0            5\n",
       "9  user_73              12  user_73_sess_0_0  user_73_sess_4_2            5"
      ],
      "text/html": [
       "<div>\n",
       "<style scoped>\n",
       "    .dataframe tbody tr th:only-of-type {\n",
       "        vertical-align: middle;\n",
       "    }\n",
       "\n",
       "    .dataframe tbody tr th {\n",
       "        vertical-align: top;\n",
       "    }\n",
       "\n",
       "    .dataframe thead th {\n",
       "        text-align: right;\n",
       "    }\n",
       "</style>\n",
       "<table border=\"1\" class=\"dataframe\">\n",
       "  <thead>\n",
       "    <tr style=\"text-align: right;\">\n",
       "      <th></th>\n",
       "      <th>user_id</th>\n",
       "      <th>total_sessions</th>\n",
       "      <th>first_session</th>\n",
       "      <th>last_session</th>\n",
       "      <th>active_days</th>\n",
       "    </tr>\n",
       "  </thead>\n",
       "  <tbody>\n",
       "    <tr>\n",
       "      <th>0</th>\n",
       "      <td>user_95</td>\n",
       "      <td>15</td>\n",
       "      <td>user_95_sess_0_0</td>\n",
       "      <td>user_95_sess_4_2</td>\n",
       "      <td>5</td>\n",
       "    </tr>\n",
       "    <tr>\n",
       "      <th>1</th>\n",
       "      <td>user_9</td>\n",
       "      <td>13</td>\n",
       "      <td>user_9_sess_0_0</td>\n",
       "      <td>user_9_sess_4_2</td>\n",
       "      <td>5</td>\n",
       "    </tr>\n",
       "    <tr>\n",
       "      <th>2</th>\n",
       "      <td>user_22</td>\n",
       "      <td>13</td>\n",
       "      <td>user_22_sess_0_0</td>\n",
       "      <td>user_22_sess_4_2</td>\n",
       "      <td>5</td>\n",
       "    </tr>\n",
       "    <tr>\n",
       "      <th>3</th>\n",
       "      <td>user_23</td>\n",
       "      <td>13</td>\n",
       "      <td>user_23_sess_0_0</td>\n",
       "      <td>user_23_sess_4_2</td>\n",
       "      <td>5</td>\n",
       "    </tr>\n",
       "    <tr>\n",
       "      <th>4</th>\n",
       "      <td>user_3</td>\n",
       "      <td>13</td>\n",
       "      <td>user_3_sess_0_0</td>\n",
       "      <td>user_3_sess_4_0</td>\n",
       "      <td>5</td>\n",
       "    </tr>\n",
       "    <tr>\n",
       "      <th>5</th>\n",
       "      <td>user_28</td>\n",
       "      <td>13</td>\n",
       "      <td>user_28_sess_0_0</td>\n",
       "      <td>user_28_sess_4_1</td>\n",
       "      <td>5</td>\n",
       "    </tr>\n",
       "    <tr>\n",
       "      <th>6</th>\n",
       "      <td>user_46</td>\n",
       "      <td>13</td>\n",
       "      <td>user_46_sess_0_0</td>\n",
       "      <td>user_46_sess_4_1</td>\n",
       "      <td>5</td>\n",
       "    </tr>\n",
       "    <tr>\n",
       "      <th>7</th>\n",
       "      <td>user_67</td>\n",
       "      <td>13</td>\n",
       "      <td>user_67_sess_0_0</td>\n",
       "      <td>user_67_sess_4_1</td>\n",
       "      <td>5</td>\n",
       "    </tr>\n",
       "    <tr>\n",
       "      <th>8</th>\n",
       "      <td>user_4</td>\n",
       "      <td>12</td>\n",
       "      <td>user_4_sess_0_0</td>\n",
       "      <td>user_4_sess_4_0</td>\n",
       "      <td>5</td>\n",
       "    </tr>\n",
       "    <tr>\n",
       "      <th>9</th>\n",
       "      <td>user_73</td>\n",
       "      <td>12</td>\n",
       "      <td>user_73_sess_0_0</td>\n",
       "      <td>user_73_sess_4_2</td>\n",
       "      <td>5</td>\n",
       "    </tr>\n",
       "  </tbody>\n",
       "</table>\n",
       "</div>"
      ]
     },
     "execution_count": 29,
     "metadata": {},
     "output_type": "execute_result"
    }
   ],
   "execution_count": 29
  },
  {
   "cell_type": "code",
   "id": "c09uz798rmo",
   "source": [
    "# Daily session patterns - multiple sessions per day\n",
    "daily_patterns = conn.execute(\"\"\"\n",
    "    SELECT \n",
    "        SPLIT_PART(session_id, '_', 1) || '_' || SPLIT_PART(session_id, '_', 2) as user_id,\n",
    "        SPLIT_PART(session_id, '_', 4) as day_index,\n",
    "        COUNT(DISTINCT session_id) as sessions_per_day,\n",
    "        GROUP_CONCAT(SPLIT_PART(session_id, '_', 5) ORDER BY session_id) as sub_session_indices\n",
    "    FROM trusted_events\n",
    "    WHERE user_id IN ('user_1', 'user_2', 'user_3')\n",
    "    GROUP BY 1, 2\n",
    "    HAVING COUNT(DISTINCT session_id) > 1\n",
    "    ORDER BY 1, CAST(day_index AS INTEGER)\n",
    "\"\"\").df()\n",
    "\n",
    "print(\"Days with multiple sessions:\")\n",
    "daily_patterns"
   ],
   "metadata": {
    "ExecuteTime": {
     "end_time": "2025-09-10T17:46:30.931643Z",
     "start_time": "2025-09-10T17:46:30.887396Z"
    }
   },
   "outputs": [
    {
     "name": "stdout",
     "output_type": "stream",
     "text": [
      "Days with multiple sessions:\n"
     ]
    },
    {
     "data": {
      "text/plain": [
       "  user_id day_index  sessions_per_day  \\\n",
       "0  user_1         3                 3   \n",
       "1  user_1         4                 2   \n",
       "2  user_2         0                 2   \n",
       "3  user_2         1                 3   \n",
       "4  user_2         3                 3   \n",
       "5  user_2         4                 3   \n",
       "6  user_3         0                 3   \n",
       "7  user_3         1                 3   \n",
       "8  user_3         2                 3   \n",
       "9  user_3         3                 3   \n",
       "\n",
       "                                 sub_session_indices  \n",
       "0  0,0,0,0,0,0,0,0,1,1,1,1,1,1,1,1,1,1,1,1,1,1,1,...  \n",
       "1  0,0,0,0,0,0,0,0,0,0,0,0,0,0,0,0,0,0,1,1,1,1,1,...  \n",
       "2  0,0,0,0,0,0,0,0,0,0,0,1,1,1,1,1,1,1,1,1,1,1,1,...  \n",
       "3  0,0,0,0,0,0,0,1,1,1,1,1,1,1,1,1,1,1,1,1,1,1,1,...  \n",
       "4  0,0,0,0,0,0,0,0,0,1,1,1,1,1,1,1,1,1,1,1,1,1,1,...  \n",
       "5  0,0,0,0,0,0,0,0,0,1,1,1,1,1,1,1,1,1,1,1,1,1,1,...  \n",
       "6  0,0,0,0,0,0,0,0,0,0,0,0,1,1,1,1,1,1,1,1,1,1,1,...  \n",
       "7  0,0,0,0,0,0,0,1,1,1,1,1,1,1,1,1,1,1,1,1,1,1,1,...  \n",
       "8  0,0,0,0,0,0,0,0,0,0,0,0,0,0,0,1,1,1,1,1,1,1,1,...  \n",
       "9  0,0,0,0,0,0,0,0,0,0,1,1,1,1,1,1,1,1,2,2,2,2,2,...  "
      ],
      "text/html": [
       "<div>\n",
       "<style scoped>\n",
       "    .dataframe tbody tr th:only-of-type {\n",
       "        vertical-align: middle;\n",
       "    }\n",
       "\n",
       "    .dataframe tbody tr th {\n",
       "        vertical-align: top;\n",
       "    }\n",
       "\n",
       "    .dataframe thead th {\n",
       "        text-align: right;\n",
       "    }\n",
       "</style>\n",
       "<table border=\"1\" class=\"dataframe\">\n",
       "  <thead>\n",
       "    <tr style=\"text-align: right;\">\n",
       "      <th></th>\n",
       "      <th>user_id</th>\n",
       "      <th>day_index</th>\n",
       "      <th>sessions_per_day</th>\n",
       "      <th>sub_session_indices</th>\n",
       "    </tr>\n",
       "  </thead>\n",
       "  <tbody>\n",
       "    <tr>\n",
       "      <th>0</th>\n",
       "      <td>user_1</td>\n",
       "      <td>3</td>\n",
       "      <td>3</td>\n",
       "      <td>0,0,0,0,0,0,0,0,1,1,1,1,1,1,1,1,1,1,1,1,1,1,1,...</td>\n",
       "    </tr>\n",
       "    <tr>\n",
       "      <th>1</th>\n",
       "      <td>user_1</td>\n",
       "      <td>4</td>\n",
       "      <td>2</td>\n",
       "      <td>0,0,0,0,0,0,0,0,0,0,0,0,0,0,0,0,0,0,1,1,1,1,1,...</td>\n",
       "    </tr>\n",
       "    <tr>\n",
       "      <th>2</th>\n",
       "      <td>user_2</td>\n",
       "      <td>0</td>\n",
       "      <td>2</td>\n",
       "      <td>0,0,0,0,0,0,0,0,0,0,0,1,1,1,1,1,1,1,1,1,1,1,1,...</td>\n",
       "    </tr>\n",
       "    <tr>\n",
       "      <th>3</th>\n",
       "      <td>user_2</td>\n",
       "      <td>1</td>\n",
       "      <td>3</td>\n",
       "      <td>0,0,0,0,0,0,0,1,1,1,1,1,1,1,1,1,1,1,1,1,1,1,1,...</td>\n",
       "    </tr>\n",
       "    <tr>\n",
       "      <th>4</th>\n",
       "      <td>user_2</td>\n",
       "      <td>3</td>\n",
       "      <td>3</td>\n",
       "      <td>0,0,0,0,0,0,0,0,0,1,1,1,1,1,1,1,1,1,1,1,1,1,1,...</td>\n",
       "    </tr>\n",
       "    <tr>\n",
       "      <th>5</th>\n",
       "      <td>user_2</td>\n",
       "      <td>4</td>\n",
       "      <td>3</td>\n",
       "      <td>0,0,0,0,0,0,0,0,0,1,1,1,1,1,1,1,1,1,1,1,1,1,1,...</td>\n",
       "    </tr>\n",
       "    <tr>\n",
       "      <th>6</th>\n",
       "      <td>user_3</td>\n",
       "      <td>0</td>\n",
       "      <td>3</td>\n",
       "      <td>0,0,0,0,0,0,0,0,0,0,0,0,1,1,1,1,1,1,1,1,1,1,1,...</td>\n",
       "    </tr>\n",
       "    <tr>\n",
       "      <th>7</th>\n",
       "      <td>user_3</td>\n",
       "      <td>1</td>\n",
       "      <td>3</td>\n",
       "      <td>0,0,0,0,0,0,0,1,1,1,1,1,1,1,1,1,1,1,1,1,1,1,1,...</td>\n",
       "    </tr>\n",
       "    <tr>\n",
       "      <th>8</th>\n",
       "      <td>user_3</td>\n",
       "      <td>2</td>\n",
       "      <td>3</td>\n",
       "      <td>0,0,0,0,0,0,0,0,0,0,0,0,0,0,0,1,1,1,1,1,1,1,1,...</td>\n",
       "    </tr>\n",
       "    <tr>\n",
       "      <th>9</th>\n",
       "      <td>user_3</td>\n",
       "      <td>3</td>\n",
       "      <td>3</td>\n",
       "      <td>0,0,0,0,0,0,0,0,0,0,1,1,1,1,1,1,1,1,2,2,2,2,2,...</td>\n",
       "    </tr>\n",
       "  </tbody>\n",
       "</table>\n",
       "</div>"
      ]
     },
     "execution_count": 25,
     "metadata": {},
     "output_type": "execute_result"
    }
   ],
   "execution_count": 25
  },
  {
   "cell_type": "code",
   "id": "r3vka1xh68g",
   "source": "# Detailed session timeline for user_1\nuser1_timeline = conn.execute(\"\"\"\n    SELECT \n        session_id,\n        SPLIT_PART(session_id, '_', 4) as day_index,\n        SPLIT_PART(session_id, '_', 5) as sub_session,\n        MIN(timestamp) as session_start,\n        MAX(timestamp) as session_end,\n        COUNT(*) as event_count,\n        COUNT(CASE WHEN event_name = 'watch_time' THEN 1 END) as watch_events,\n        SUM(CASE WHEN event_name = 'watch_time' THEN CAST(value AS DOUBLE) ELSE 0 END) as total_watch_time\n    FROM trusted_events\n    WHERE user_id = 'user_1'\n    GROUP BY session_id, day_index, sub_session\n    ORDER BY CAST(day_index AS INTEGER), CAST(sub_session AS INTEGER)\n\"\"\").df()\n\nprint(\"User_1 detailed session timeline:\")\nuser1_timeline",
   "metadata": {
    "ExecuteTime": {
     "end_time": "2025-09-10T17:47:41.199901Z",
     "start_time": "2025-09-10T17:47:41.139061Z"
    }
   },
   "outputs": [
    {
     "name": "stdout",
     "output_type": "stream",
     "text": [
      "User_1 detailed session timeline:\n"
     ]
    },
    {
     "data": {
      "text/plain": [
       "        session_id day_index sub_session        session_start  \\\n",
       "0  user_1_sess_0_0         0           0  2025-04-18T04:47:00   \n",
       "1  user_1_sess_1_0         1           0  2025-04-19T22:27:00   \n",
       "2  user_1_sess_2_0         2           0  2025-04-20T12:34:00   \n",
       "3  user_1_sess_3_0         3           0  2025-04-21T10:02:00   \n",
       "4  user_1_sess_3_1         3           1  2025-04-21T19:07:00   \n",
       "5  user_1_sess_3_2         3           2  2025-04-21T18:58:00   \n",
       "6  user_1_sess_4_0         4           0  2025-04-22T14:22:00   \n",
       "7  user_1_sess_4_1         4           1  2025-04-22T20:31:00   \n",
       "\n",
       "           session_end  event_count  watch_events  total_watch_time  \n",
       "0  2025-04-18T04:48:20           17             6              21.0  \n",
       "1  2025-04-19T22:27:55           12             3              10.0  \n",
       "2  2025-04-20T12:34:55           12             2               2.0  \n",
       "3  2025-04-21T10:02:35            8             3               8.0  \n",
       "4  2025-04-21T19:08:20           17             4               9.0  \n",
       "5  2025-04-21T18:58:40            9             5              16.0  \n",
       "6  2025-04-22T14:23:25           18             6              19.0  \n",
       "7  2025-04-22T20:31:35            8             2               7.0  "
      ],
      "text/html": [
       "<div>\n",
       "<style scoped>\n",
       "    .dataframe tbody tr th:only-of-type {\n",
       "        vertical-align: middle;\n",
       "    }\n",
       "\n",
       "    .dataframe tbody tr th {\n",
       "        vertical-align: top;\n",
       "    }\n",
       "\n",
       "    .dataframe thead th {\n",
       "        text-align: right;\n",
       "    }\n",
       "</style>\n",
       "<table border=\"1\" class=\"dataframe\">\n",
       "  <thead>\n",
       "    <tr style=\"text-align: right;\">\n",
       "      <th></th>\n",
       "      <th>session_id</th>\n",
       "      <th>day_index</th>\n",
       "      <th>sub_session</th>\n",
       "      <th>session_start</th>\n",
       "      <th>session_end</th>\n",
       "      <th>event_count</th>\n",
       "      <th>watch_events</th>\n",
       "      <th>total_watch_time</th>\n",
       "    </tr>\n",
       "  </thead>\n",
       "  <tbody>\n",
       "    <tr>\n",
       "      <th>0</th>\n",
       "      <td>user_1_sess_0_0</td>\n",
       "      <td>0</td>\n",
       "      <td>0</td>\n",
       "      <td>2025-04-18T04:47:00</td>\n",
       "      <td>2025-04-18T04:48:20</td>\n",
       "      <td>17</td>\n",
       "      <td>6</td>\n",
       "      <td>21.0</td>\n",
       "    </tr>\n",
       "    <tr>\n",
       "      <th>1</th>\n",
       "      <td>user_1_sess_1_0</td>\n",
       "      <td>1</td>\n",
       "      <td>0</td>\n",
       "      <td>2025-04-19T22:27:00</td>\n",
       "      <td>2025-04-19T22:27:55</td>\n",
       "      <td>12</td>\n",
       "      <td>3</td>\n",
       "      <td>10.0</td>\n",
       "    </tr>\n",
       "    <tr>\n",
       "      <th>2</th>\n",
       "      <td>user_1_sess_2_0</td>\n",
       "      <td>2</td>\n",
       "      <td>0</td>\n",
       "      <td>2025-04-20T12:34:00</td>\n",
       "      <td>2025-04-20T12:34:55</td>\n",
       "      <td>12</td>\n",
       "      <td>2</td>\n",
       "      <td>2.0</td>\n",
       "    </tr>\n",
       "    <tr>\n",
       "      <th>3</th>\n",
       "      <td>user_1_sess_3_0</td>\n",
       "      <td>3</td>\n",
       "      <td>0</td>\n",
       "      <td>2025-04-21T10:02:00</td>\n",
       "      <td>2025-04-21T10:02:35</td>\n",
       "      <td>8</td>\n",
       "      <td>3</td>\n",
       "      <td>8.0</td>\n",
       "    </tr>\n",
       "    <tr>\n",
       "      <th>4</th>\n",
       "      <td>user_1_sess_3_1</td>\n",
       "      <td>3</td>\n",
       "      <td>1</td>\n",
       "      <td>2025-04-21T19:07:00</td>\n",
       "      <td>2025-04-21T19:08:20</td>\n",
       "      <td>17</td>\n",
       "      <td>4</td>\n",
       "      <td>9.0</td>\n",
       "    </tr>\n",
       "    <tr>\n",
       "      <th>5</th>\n",
       "      <td>user_1_sess_3_2</td>\n",
       "      <td>3</td>\n",
       "      <td>2</td>\n",
       "      <td>2025-04-21T18:58:00</td>\n",
       "      <td>2025-04-21T18:58:40</td>\n",
       "      <td>9</td>\n",
       "      <td>5</td>\n",
       "      <td>16.0</td>\n",
       "    </tr>\n",
       "    <tr>\n",
       "      <th>6</th>\n",
       "      <td>user_1_sess_4_0</td>\n",
       "      <td>4</td>\n",
       "      <td>0</td>\n",
       "      <td>2025-04-22T14:22:00</td>\n",
       "      <td>2025-04-22T14:23:25</td>\n",
       "      <td>18</td>\n",
       "      <td>6</td>\n",
       "      <td>19.0</td>\n",
       "    </tr>\n",
       "    <tr>\n",
       "      <th>7</th>\n",
       "      <td>user_1_sess_4_1</td>\n",
       "      <td>4</td>\n",
       "      <td>1</td>\n",
       "      <td>2025-04-22T20:31:00</td>\n",
       "      <td>2025-04-22T20:31:35</td>\n",
       "      <td>8</td>\n",
       "      <td>2</td>\n",
       "      <td>7.0</td>\n",
       "    </tr>\n",
       "  </tbody>\n",
       "</table>\n",
       "</div>"
      ]
     },
     "execution_count": 30,
     "metadata": {},
     "output_type": "execute_result"
    }
   ],
   "execution_count": 30
  },
  {
   "cell_type": "markdown",
   "id": "zbbe9cds0ym",
   "source": "## Q1: What % of new users reach at least 30 seconds of watch_time in their first session?",
   "metadata": {}
  },
  {
   "cell_type": "code",
   "id": "rb4yny43x8",
   "source": "# Q1 Analysis: Proper interpretation\nq1_analysis = conn.execute(\"\"\"\n    WITH user_first_sessions AS (\n        SELECT\n            user_id,\n            MIN(session_id) as first_session_id\n        FROM trusted_events\n        GROUP BY user_id\n    ),\n    first_session_watch_times AS (\n        SELECT\n            ufs.user_id,\n            ufs.first_session_id,\n            SUM(CAST(e.value AS DOUBLE)) as total_watch_time\n        FROM user_first_sessions ufs\n        INNER JOIN trusted_events e\n            ON ufs.user_id = e.user_id\n            AND ufs.first_session_id = e.session_id\n        WHERE e.event_name = 'watch_time'\n            AND e.value IS NOT NULL\n            AND e.value > 0\n        GROUP BY ufs.user_id, ufs.first_session_id\n    )\n    SELECT\n        COUNT(DISTINCT u.user_id) as total_users,\n        COUNT(DISTINCT fswt.user_id) as users_with_watch_time,\n        COUNT(DISTINCT CASE WHEN fswt.total_watch_time >= 30 THEN fswt.user_id END) as users_with_30_plus,\n        ROUND(100.0 * COUNT(DISTINCT CASE WHEN fswt.total_watch_time >= 30 THEN fswt.user_id END) / NULLIF(COUNT(DISTINCT u.user_id), 0), 2) as pct_reaching_30_seconds\n    FROM trusted_users u\n    LEFT JOIN first_session_watch_times fswt ON u.user_id = fswt.user_id\n\"\"\").df()\n\nprint(\"Q1 ANSWER:\")\nprint(f\"  Total users: {q1_analysis['total_users'].iloc[0]:,}\")\nprint(f\"  Users with watch time in first session: {q1_analysis['users_with_watch_time'].iloc[0]:,}\")\nprint(f\"  Users reaching 30+ seconds: {q1_analysis['users_with_30_plus'].iloc[0]:,}\")\nprint(f\"  *** FINAL ANSWER: {q1_analysis['pct_reaching_30_seconds'].iloc[0]}% ***\")\n\nq1_analysis",
   "metadata": {
    "ExecuteTime": {
     "end_time": "2025-09-10T17:51:31.108541Z",
     "start_time": "2025-09-10T17:51:31.061923Z"
    }
   },
   "outputs": [
    {
     "name": "stdout",
     "output_type": "stream",
     "text": [
      "Q1 ANSWER:\n",
      "  Total users: 100\n",
      "  Users with watch time in first session: 97\n",
      "  Users reaching 30+ seconds: 1\n",
      "  *** FINAL ANSWER: 1.0% ***\n"
     ]
    },
    {
     "data": {
      "text/plain": [
       "   total_users  users_with_watch_time  users_with_30_plus  \\\n",
       "0          100                     97                   1   \n",
       "\n",
       "   pct_reaching_30_seconds  \n",
       "0                      1.0  "
      ],
      "text/html": [
       "<div>\n",
       "<style scoped>\n",
       "    .dataframe tbody tr th:only-of-type {\n",
       "        vertical-align: middle;\n",
       "    }\n",
       "\n",
       "    .dataframe tbody tr th {\n",
       "        vertical-align: top;\n",
       "    }\n",
       "\n",
       "    .dataframe thead th {\n",
       "        text-align: right;\n",
       "    }\n",
       "</style>\n",
       "<table border=\"1\" class=\"dataframe\">\n",
       "  <thead>\n",
       "    <tr style=\"text-align: right;\">\n",
       "      <th></th>\n",
       "      <th>total_users</th>\n",
       "      <th>users_with_watch_time</th>\n",
       "      <th>users_with_30_plus</th>\n",
       "      <th>pct_reaching_30_seconds</th>\n",
       "    </tr>\n",
       "  </thead>\n",
       "  <tbody>\n",
       "    <tr>\n",
       "      <th>0</th>\n",
       "      <td>100</td>\n",
       "      <td>97</td>\n",
       "      <td>1</td>\n",
       "      <td>1.0</td>\n",
       "    </tr>\n",
       "  </tbody>\n",
       "</table>\n",
       "</div>"
      ]
     },
     "execution_count": 35,
     "metadata": {},
     "output_type": "execute_result"
    }
   ],
   "execution_count": 35
  },
  {
   "cell_type": "code",
   "id": "1uo1r7zicoh",
   "source": "# Show the successful user who reached 30+ seconds\nsuccessful_user = conn.execute(\"\"\"\n    WITH user_first_sessions AS (\n        SELECT\n            user_id,\n            MIN(session_id) as first_session_id\n        FROM trusted_events\n        GROUP BY user_id\n    ),\n    first_session_watch_times AS (\n        SELECT\n            ufs.user_id,\n            ufs.first_session_id,\n            SUM(CAST(e.value AS DOUBLE)) as total_watch_time\n        FROM user_first_sessions ufs\n        INNER JOIN trusted_events e\n            ON ufs.user_id = e.user_id\n            AND ufs.first_session_id = e.session_id\n        WHERE e.event_name = 'watch_time'\n            AND e.value IS NOT NULL\n            AND e.value > 0\n        GROUP BY ufs.user_id, ufs.first_session_id\n    )\n    SELECT \n        user_id,\n        first_session_id,\n        total_watch_time\n    FROM first_session_watch_times\n    WHERE total_watch_time >= 30\n    ORDER BY total_watch_time DESC\n\"\"\").df()\n\nprint(\"User who reached 30+ seconds in first session:\")\nsuccessful_user",
   "metadata": {
    "ExecuteTime": {
     "end_time": "2025-09-10T17:50:28.742859Z",
     "start_time": "2025-09-10T17:50:28.718119Z"
    }
   },
   "outputs": [
    {
     "name": "stdout",
     "output_type": "stream",
     "text": [
      "User who reached 30+ seconds in first session:\n"
     ]
    },
    {
     "data": {
      "text/plain": [
       "   user_id  first_session_id  total_watch_time\n",
       "0  user_78  user_78_sess_0_0              39.0"
      ],
      "text/html": [
       "<div>\n",
       "<style scoped>\n",
       "    .dataframe tbody tr th:only-of-type {\n",
       "        vertical-align: middle;\n",
       "    }\n",
       "\n",
       "    .dataframe tbody tr th {\n",
       "        vertical-align: top;\n",
       "    }\n",
       "\n",
       "    .dataframe thead th {\n",
       "        text-align: right;\n",
       "    }\n",
       "</style>\n",
       "<table border=\"1\" class=\"dataframe\">\n",
       "  <thead>\n",
       "    <tr style=\"text-align: right;\">\n",
       "      <th></th>\n",
       "      <th>user_id</th>\n",
       "      <th>first_session_id</th>\n",
       "      <th>total_watch_time</th>\n",
       "    </tr>\n",
       "  </thead>\n",
       "  <tbody>\n",
       "    <tr>\n",
       "      <th>0</th>\n",
       "      <td>user_78</td>\n",
       "      <td>user_78_sess_0_0</td>\n",
       "      <td>39.0</td>\n",
       "    </tr>\n",
       "  </tbody>\n",
       "</table>\n",
       "</div>"
      ]
     },
     "execution_count": 33,
     "metadata": {},
     "output_type": "execute_result"
    }
   ],
   "execution_count": 33
  },
  {
   "metadata": {},
   "cell_type": "markdown",
   "source": "## Q2: Which video genres drive the highest 2nd-session retention within 3 days?",
   "id": "a76dd315e502f0af"
  },
  {
   "cell_type": "code",
   "id": "woapcnp26g",
   "source": "# Check available video genres\ngenres_overview = conn.execute(\"\"\"\n    SELECT \n        genre,\n        COUNT(*) as video_count,\n        COUNT(DISTINCT e.user_id) as users_exposed\n    FROM trusted_videos v\n    INNER JOIN trusted_events e ON v.video_id = e.video_id\n    GROUP BY genre\n    ORDER BY users_exposed DESC\n\"\"\").df()\n\nprint(\"Video genres overview:\")\ngenres_overview",
   "metadata": {
    "ExecuteTime": {
     "end_time": "2025-09-10T17:56:55.536800Z",
     "start_time": "2025-09-10T17:56:55.472298Z"
    }
   },
   "outputs": [
    {
     "name": "stdout",
     "output_type": "stream",
     "text": [
      "Video genres overview:\n"
     ]
    },
    {
     "data": {
      "text/plain": [
       "         genre  video_count  users_exposed\n",
       "0       Comedy         4089            100\n",
       "1       Action         4780            100\n",
       "2        Drama         2067            100\n",
       "3  Documentary         2767            100"
      ],
      "text/html": [
       "<div>\n",
       "<style scoped>\n",
       "    .dataframe tbody tr th:only-of-type {\n",
       "        vertical-align: middle;\n",
       "    }\n",
       "\n",
       "    .dataframe tbody tr th {\n",
       "        vertical-align: top;\n",
       "    }\n",
       "\n",
       "    .dataframe thead th {\n",
       "        text-align: right;\n",
       "    }\n",
       "</style>\n",
       "<table border=\"1\" class=\"dataframe\">\n",
       "  <thead>\n",
       "    <tr style=\"text-align: right;\">\n",
       "      <th></th>\n",
       "      <th>genre</th>\n",
       "      <th>video_count</th>\n",
       "      <th>users_exposed</th>\n",
       "    </tr>\n",
       "  </thead>\n",
       "  <tbody>\n",
       "    <tr>\n",
       "      <th>0</th>\n",
       "      <td>Comedy</td>\n",
       "      <td>4089</td>\n",
       "      <td>100</td>\n",
       "    </tr>\n",
       "    <tr>\n",
       "      <th>1</th>\n",
       "      <td>Action</td>\n",
       "      <td>4780</td>\n",
       "      <td>100</td>\n",
       "    </tr>\n",
       "    <tr>\n",
       "      <th>2</th>\n",
       "      <td>Drama</td>\n",
       "      <td>2067</td>\n",
       "      <td>100</td>\n",
       "    </tr>\n",
       "    <tr>\n",
       "      <th>3</th>\n",
       "      <td>Documentary</td>\n",
       "      <td>2767</td>\n",
       "      <td>100</td>\n",
       "    </tr>\n",
       "  </tbody>\n",
       "</table>\n",
       "</div>"
      ]
     },
     "execution_count": 37,
     "metadata": {},
     "output_type": "execute_result"
    }
   ],
   "execution_count": 37
  },
  {
   "cell_type": "code",
   "id": "tdsmov514ic",
   "source": "# Q2 Analysis: 2nd-session retention by genre\nq2_analysis = conn.execute(\"\"\"\n    WITH user_first_sessions AS (\n        -- Get each user's first session details\n        SELECT \n            e.user_id,\n            MIN(e.session_id) as first_session_id,\n            SUBSTRING(MIN(e.timestamp), 1, 10) as first_session_date\n        FROM trusted_events e\n        GROUP BY e.user_id\n    ),\n    first_session_genres AS (\n        -- Get genres watched in first session\n        SELECT \n            ufs.user_id,\n            ufs.first_session_id,\n            ufs.first_session_date,\n            v.genre,\n            COUNT(DISTINCT e.video_id) as videos_watched\n        FROM user_first_sessions ufs\n        INNER JOIN trusted_events e \n            ON ufs.user_id = e.user_id \n            AND ufs.first_session_id = e.session_id\n        INNER JOIN trusted_videos v ON e.video_id = v.video_id\n        GROUP BY ufs.user_id, ufs.first_session_id, ufs.first_session_date, v.genre\n    ),\n    user_second_sessions AS (\n        -- Check if users had a 2nd session within 3 days\n        SELECT DISTINCT\n            fsg.user_id,\n            fsg.genre,\n            CASE WHEN COUNT(DISTINCT later_sessions.session_id) > 0 THEN 1 ELSE 0 END as has_second_session\n        FROM first_session_genres fsg\n        LEFT JOIN trusted_events later_sessions\n            ON fsg.user_id = later_sessions.user_id\n            AND later_sessions.session_id > fsg.first_session_id  -- Any session after first\n            AND SUBSTRING(later_sessions.timestamp, 1, 10) <= CAST(DATE_ADD(CAST(fsg.first_session_date AS DATE), INTERVAL 3 DAY) AS VARCHAR)\n        GROUP BY fsg.user_id, fsg.genre\n    )\n    SELECT \n        genre,\n        COUNT(*) as users_exposed_to_genre,\n        SUM(has_second_session) as users_with_second_session,\n        ROUND(100.0 * SUM(has_second_session) / NULLIF(COUNT(*), 0), 1) as retention_rate_pct\n    FROM user_second_sessions\n    GROUP BY genre\n    ORDER BY retention_rate_pct DESC, users_exposed_to_genre DESC\n\"\"\").df()\n\nprint(\"Q2 RESULTS:\")\nprint(q2_analysis.to_string())\n\nprint(f\"\\n*** ANSWER: {q2_analysis.iloc[0]['genre']} drives the highest 2nd-session retention at {q2_analysis.iloc[0]['retention_rate_pct']}% ***\")",
   "metadata": {
    "ExecuteTime": {
     "end_time": "2025-09-10T17:57:27.933310Z",
     "start_time": "2025-09-10T17:57:27.875174Z"
    }
   },
   "outputs": [
    {
     "name": "stdout",
     "output_type": "stream",
     "text": [
      "Q2 RESULTS:\n",
      "         genre  users_exposed_to_genre  users_with_second_session  retention_rate_pct\n",
      "0       Action                      98                       98.0               100.0\n",
      "1       Comedy                      97                       97.0               100.0\n",
      "2  Documentary                      90                       90.0               100.0\n",
      "3        Drama                      86                       86.0               100.0\n",
      "\n",
      "*** ANSWER: Action drives the highest 2nd-session retention at 100.0% ***\n"
     ]
    }
   ],
   "execution_count": 38
  },
  {
   "cell_type": "code",
   "id": "nktbioflf8",
   "source": "# Investigate why retention rates are so high\nretention_investigation = conn.execute(\"\"\"\n    SELECT \n        'Total Users' as metric,\n        COUNT(DISTINCT user_id) as value\n    FROM trusted_events\n    \n    UNION ALL\n    \n    SELECT \n        'Users with 2+ sessions' as metric,\n        COUNT(DISTINCT user_id) as value\n    FROM (\n        SELECT user_id, COUNT(DISTINCT session_id) as session_count\n        FROM trusted_events\n        GROUP BY user_id\n        HAVING session_count >= 2\n    )\n    \n    UNION ALL\n    \n    SELECT \n        'Users with sessions spanning multiple days' as metric,\n        COUNT(DISTINCT user_id) as value\n    FROM (\n        SELECT \n            user_id,\n            COUNT(DISTINCT SUBSTRING(timestamp, 1, 10)) as unique_days\n        FROM trusted_events\n        GROUP BY user_id\n        HAVING unique_days >= 2\n    )\n\"\"\").df()\n\nprint(\"Understanding high retention rates:\")\nretention_investigation",
   "metadata": {
    "ExecuteTime": {
     "end_time": "2025-09-10T17:57:35.833918Z",
     "start_time": "2025-09-10T17:57:35.786908Z"
    }
   },
   "outputs": [
    {
     "name": "stdout",
     "output_type": "stream",
     "text": [
      "Understanding high retention rates:\n"
     ]
    },
    {
     "data": {
      "text/plain": [
       "                                       metric  value\n",
       "0                                 Total Users    100\n",
       "1  Users with sessions spanning multiple days    100\n",
       "2                      Users with 2+ sessions    100"
      ],
      "text/html": [
       "<div>\n",
       "<style scoped>\n",
       "    .dataframe tbody tr th:only-of-type {\n",
       "        vertical-align: middle;\n",
       "    }\n",
       "\n",
       "    .dataframe tbody tr th {\n",
       "        vertical-align: top;\n",
       "    }\n",
       "\n",
       "    .dataframe thead th {\n",
       "        text-align: right;\n",
       "    }\n",
       "</style>\n",
       "<table border=\"1\" class=\"dataframe\">\n",
       "  <thead>\n",
       "    <tr style=\"text-align: right;\">\n",
       "      <th></th>\n",
       "      <th>metric</th>\n",
       "      <th>value</th>\n",
       "    </tr>\n",
       "  </thead>\n",
       "  <tbody>\n",
       "    <tr>\n",
       "      <th>0</th>\n",
       "      <td>Total Users</td>\n",
       "      <td>100</td>\n",
       "    </tr>\n",
       "    <tr>\n",
       "      <th>1</th>\n",
       "      <td>Users with sessions spanning multiple days</td>\n",
       "      <td>100</td>\n",
       "    </tr>\n",
       "    <tr>\n",
       "      <th>2</th>\n",
       "      <td>Users with 2+ sessions</td>\n",
       "      <td>100</td>\n",
       "    </tr>\n",
       "  </tbody>\n",
       "</table>\n",
       "</div>"
      ]
     },
     "execution_count": 39,
     "metadata": {},
     "output_type": "execute_result"
    }
   ],
   "execution_count": 39
  },
  {
   "metadata": {},
   "cell_type": "code",
   "outputs": [],
   "execution_count": null,
   "source": "",
   "id": "734bd58879f0c971"
  }
 ],
 "metadata": {
  "kernelspec": {
   "display_name": "Python 3",
   "language": "python",
   "name": "python3"
  },
  "language_info": {
   "codemirror_mode": {
    "name": "ipython",
    "version": 3
   },
   "file_extension": ".py",
   "name": "python",
   "nbconvert_exporter": "python",
   "pygments_lexer": "ipython3",
   "version": "3.9.0"
  }
 },
 "nbformat": 4,
 "nbformat_minor": 5
}
